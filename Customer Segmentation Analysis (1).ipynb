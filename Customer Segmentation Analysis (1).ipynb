{
 "cells": [
  {
   "cell_type": "markdown",
   "id": "8182b054",
   "metadata": {},
   "source": [
    "# Customer Segmentation Analysis"
   ]
  },
  {
   "cell_type": "code",
   "execution_count": 1,
   "id": "dd3aab80",
   "metadata": {},
   "outputs": [],
   "source": [
    "# Importing necessary libraries\n",
    "import pandas as pd\n",
    "import numpy as np\n",
    "import matplotlib.pyplot as plt\n",
    "from sklearn.cluster import KMeans\n",
    "from sklearn.preprocessing import StandardScaler\n",
    "from sklearn.metrics import silhouette_score"
   ]
  },
  {
   "cell_type": "code",
   "execution_count": 3,
   "id": "a219fe90",
   "metadata": {},
   "outputs": [],
   "source": [
    "# Data Retrieval\n",
    "\n",
    "# Loading dataset\n",
    "customer_data = pd.read_csv(\"ifood_df.csv\")"
   ]
  },
  {
   "cell_type": "code",
   "execution_count": 4,
   "id": "0041ddb3",
   "metadata": {},
   "outputs": [
    {
     "name": "stdout",
     "output_type": "stream",
     "text": [
      "    Income  Kidhome  Teenhome  Recency  MntWines  MntFruits  MntMeatProducts  \\\n",
      "0  58138.0        0         0       58       635         88              546   \n",
      "1  46344.0        1         1       38        11          1                6   \n",
      "2  71613.0        0         0       26       426         49              127   \n",
      "3  26646.0        1         0       26        11          4               20   \n",
      "4  58293.0        1         0       94       173         43              118   \n",
      "\n",
      "   MntFishProducts  MntSweetProducts  MntGoldProds  ...  marital_Together  \\\n",
      "0              172                88            88  ...                 0   \n",
      "1                2                 1             6  ...                 0   \n",
      "2              111                21            42  ...                 1   \n",
      "3               10                 3             5  ...                 1   \n",
      "4               46                27            15  ...                 0   \n",
      "\n",
      "   marital_Widow  education_2n Cycle  education_Basic  education_Graduation  \\\n",
      "0              0                   0                0                     1   \n",
      "1              0                   0                0                     1   \n",
      "2              0                   0                0                     1   \n",
      "3              0                   0                0                     1   \n",
      "4              0                   0                0                     0   \n",
      "\n",
      "   education_Master  education_PhD  MntTotal  MntRegularProds  \\\n",
      "0                 0              0      1529             1441   \n",
      "1                 0              0        21               15   \n",
      "2                 0              0       734              692   \n",
      "3                 0              0        48               43   \n",
      "4                 0              1       407              392   \n",
      "\n",
      "   AcceptedCmpOverall  \n",
      "0                   0  \n",
      "1                   0  \n",
      "2                   0  \n",
      "3                   0  \n",
      "4                   0  \n",
      "\n",
      "[5 rows x 39 columns]\n"
     ]
    }
   ],
   "source": [
    "# Data Exploration and Cleaning\n",
    "\n",
    "print(customer_data.head())"
   ]
  },
  {
   "cell_type": "code",
   "execution_count": 5,
   "id": "6bfd64cb",
   "metadata": {},
   "outputs": [
    {
     "name": "stdout",
     "output_type": "stream",
     "text": [
      "(2205, 39)\n"
     ]
    }
   ],
   "source": [
    "print(customer_data.shape)"
   ]
  },
  {
   "cell_type": "code",
   "execution_count": 6,
   "id": "f65643f3",
   "metadata": {},
   "outputs": [
    {
     "name": "stdout",
     "output_type": "stream",
     "text": [
      "              Income      Kidhome     Teenhome      Recency     MntWines  \\\n",
      "count    2205.000000  2205.000000  2205.000000  2205.000000  2205.000000   \n",
      "mean    51622.094785     0.442177     0.506576    49.009070   306.164626   \n",
      "std     20713.063826     0.537132     0.544380    28.932111   337.493839   \n",
      "min      1730.000000     0.000000     0.000000     0.000000     0.000000   \n",
      "25%     35196.000000     0.000000     0.000000    24.000000    24.000000   \n",
      "50%     51287.000000     0.000000     0.000000    49.000000   178.000000   \n",
      "75%     68281.000000     1.000000     1.000000    74.000000   507.000000   \n",
      "max    113734.000000     2.000000     2.000000    99.000000  1493.000000   \n",
      "\n",
      "         MntFruits  MntMeatProducts  MntFishProducts  MntSweetProducts  \\\n",
      "count  2205.000000      2205.000000      2205.000000       2205.000000   \n",
      "mean     26.403175       165.312018        37.756463         27.128345   \n",
      "std      39.784484       217.784507        54.824635         41.130468   \n",
      "min       0.000000         0.000000         0.000000          0.000000   \n",
      "25%       2.000000        16.000000         3.000000          1.000000   \n",
      "50%       8.000000        68.000000        12.000000          8.000000   \n",
      "75%      33.000000       232.000000        50.000000         34.000000   \n",
      "max     199.000000      1725.000000       259.000000        262.000000   \n",
      "\n",
      "       MntGoldProds  ...  marital_Together  marital_Widow  education_2n Cycle  \\\n",
      "count   2205.000000  ...       2205.000000    2205.000000         2205.000000   \n",
      "mean      44.057143  ...          0.257596       0.034467            0.089796   \n",
      "std       51.736211  ...          0.437410       0.182467            0.285954   \n",
      "min        0.000000  ...          0.000000       0.000000            0.000000   \n",
      "25%        9.000000  ...          0.000000       0.000000            0.000000   \n",
      "50%       25.000000  ...          0.000000       0.000000            0.000000   \n",
      "75%       56.000000  ...          1.000000       0.000000            0.000000   \n",
      "max      321.000000  ...          1.000000       1.000000            1.000000   \n",
      "\n",
      "       education_Basic  education_Graduation  education_Master  education_PhD  \\\n",
      "count      2205.000000           2205.000000       2205.000000    2205.000000   \n",
      "mean          0.024490              0.504762          0.165079       0.215873   \n",
      "std           0.154599              0.500091          0.371336       0.411520   \n",
      "min           0.000000              0.000000          0.000000       0.000000   \n",
      "25%           0.000000              0.000000          0.000000       0.000000   \n",
      "50%           0.000000              1.000000          0.000000       0.000000   \n",
      "75%           0.000000              1.000000          0.000000       0.000000   \n",
      "max           1.000000              1.000000          1.000000       1.000000   \n",
      "\n",
      "          MntTotal  MntRegularProds  AcceptedCmpOverall  \n",
      "count  2205.000000      2205.000000          2205.00000  \n",
      "mean    562.764626       518.707483             0.29932  \n",
      "std     575.936911       553.847248             0.68044  \n",
      "min       4.000000      -283.000000             0.00000  \n",
      "25%      56.000000        42.000000             0.00000  \n",
      "50%     343.000000       288.000000             0.00000  \n",
      "75%     964.000000       884.000000             0.00000  \n",
      "max    2491.000000      2458.000000             4.00000  \n",
      "\n",
      "[8 rows x 39 columns]\n"
     ]
    }
   ],
   "source": [
    "print(customer_data.describe())"
   ]
  },
  {
   "cell_type": "code",
   "execution_count": 7,
   "id": "6d4b006c",
   "metadata": {},
   "outputs": [
    {
     "name": "stdout",
     "output_type": "stream",
     "text": [
      "<class 'pandas.core.frame.DataFrame'>\n",
      "RangeIndex: 2205 entries, 0 to 2204\n",
      "Data columns (total 39 columns):\n",
      " #   Column                Non-Null Count  Dtype  \n",
      "---  ------                --------------  -----  \n",
      " 0   Income                2205 non-null   float64\n",
      " 1   Kidhome               2205 non-null   int64  \n",
      " 2   Teenhome              2205 non-null   int64  \n",
      " 3   Recency               2205 non-null   int64  \n",
      " 4   MntWines              2205 non-null   int64  \n",
      " 5   MntFruits             2205 non-null   int64  \n",
      " 6   MntMeatProducts       2205 non-null   int64  \n",
      " 7   MntFishProducts       2205 non-null   int64  \n",
      " 8   MntSweetProducts      2205 non-null   int64  \n",
      " 9   MntGoldProds          2205 non-null   int64  \n",
      " 10  NumDealsPurchases     2205 non-null   int64  \n",
      " 11  NumWebPurchases       2205 non-null   int64  \n",
      " 12  NumCatalogPurchases   2205 non-null   int64  \n",
      " 13  NumStorePurchases     2205 non-null   int64  \n",
      " 14  NumWebVisitsMonth     2205 non-null   int64  \n",
      " 15  AcceptedCmp3          2205 non-null   int64  \n",
      " 16  AcceptedCmp4          2205 non-null   int64  \n",
      " 17  AcceptedCmp5          2205 non-null   int64  \n",
      " 18  AcceptedCmp1          2205 non-null   int64  \n",
      " 19  AcceptedCmp2          2205 non-null   int64  \n",
      " 20  Complain              2205 non-null   int64  \n",
      " 21  Z_CostContact         2205 non-null   int64  \n",
      " 22  Z_Revenue             2205 non-null   int64  \n",
      " 23  Response              2205 non-null   int64  \n",
      " 24  Age                   2205 non-null   int64  \n",
      " 25  Customer_Days         2205 non-null   int64  \n",
      " 26  marital_Divorced      2205 non-null   int64  \n",
      " 27  marital_Married       2205 non-null   int64  \n",
      " 28  marital_Single        2205 non-null   int64  \n",
      " 29  marital_Together      2205 non-null   int64  \n",
      " 30  marital_Widow         2205 non-null   int64  \n",
      " 31  education_2n Cycle    2205 non-null   int64  \n",
      " 32  education_Basic       2205 non-null   int64  \n",
      " 33  education_Graduation  2205 non-null   int64  \n",
      " 34  education_Master      2205 non-null   int64  \n",
      " 35  education_PhD         2205 non-null   int64  \n",
      " 36  MntTotal              2205 non-null   int64  \n",
      " 37  MntRegularProds       2205 non-null   int64  \n",
      " 38  AcceptedCmpOverall    2205 non-null   int64  \n",
      "dtypes: float64(1), int64(38)\n",
      "memory usage: 672.0 KB\n",
      "None\n"
     ]
    }
   ],
   "source": [
    "print(customer_data.info())"
   ]
  },
  {
   "cell_type": "code",
   "execution_count": 8,
   "id": "8b6bbbb1",
   "metadata": {},
   "outputs": [
    {
     "name": "stdout",
     "output_type": "stream",
     "text": [
      "Income                  0\n",
      "Kidhome                 0\n",
      "Teenhome                0\n",
      "Recency                 0\n",
      "MntWines                0\n",
      "MntFruits               0\n",
      "MntMeatProducts         0\n",
      "MntFishProducts         0\n",
      "MntSweetProducts        0\n",
      "MntGoldProds            0\n",
      "NumDealsPurchases       0\n",
      "NumWebPurchases         0\n",
      "NumCatalogPurchases     0\n",
      "NumStorePurchases       0\n",
      "NumWebVisitsMonth       0\n",
      "AcceptedCmp3            0\n",
      "AcceptedCmp4            0\n",
      "AcceptedCmp5            0\n",
      "AcceptedCmp1            0\n",
      "AcceptedCmp2            0\n",
      "Complain                0\n",
      "Z_CostContact           0\n",
      "Z_Revenue               0\n",
      "Response                0\n",
      "Age                     0\n",
      "Customer_Days           0\n",
      "marital_Divorced        0\n",
      "marital_Married         0\n",
      "marital_Single          0\n",
      "marital_Together        0\n",
      "marital_Widow           0\n",
      "education_2n Cycle      0\n",
      "education_Basic         0\n",
      "education_Graduation    0\n",
      "education_Master        0\n",
      "education_PhD           0\n",
      "MntTotal                0\n",
      "MntRegularProds         0\n",
      "AcceptedCmpOverall      0\n",
      "dtype: int64\n"
     ]
    }
   ],
   "source": [
    "print(customer_data.isna().sum())"
   ]
  },
  {
   "cell_type": "code",
   "execution_count": 9,
   "id": "850f74b0",
   "metadata": {},
   "outputs": [
    {
     "name": "stdout",
     "output_type": "stream",
     "text": [
      "Index(['Income', 'Kidhome', 'Teenhome', 'Recency', 'MntWines', 'MntFruits',\n",
      "       'MntMeatProducts', 'MntFishProducts', 'MntSweetProducts',\n",
      "       'MntGoldProds', 'NumDealsPurchases', 'NumWebPurchases',\n",
      "       'NumCatalogPurchases', 'NumStorePurchases', 'NumWebVisitsMonth',\n",
      "       'AcceptedCmp3', 'AcceptedCmp4', 'AcceptedCmp5', 'AcceptedCmp1',\n",
      "       'AcceptedCmp2', 'Complain', 'Z_CostContact', 'Z_Revenue', 'Response',\n",
      "       'Age', 'Customer_Days', 'marital_Divorced', 'marital_Married',\n",
      "       'marital_Single', 'marital_Together', 'marital_Widow',\n",
      "       'education_2n Cycle', 'education_Basic', 'education_Graduation',\n",
      "       'education_Master', 'education_PhD', 'MntTotal', 'MntRegularProds',\n",
      "       'AcceptedCmpOverall'],\n",
      "      dtype='object')\n"
     ]
    }
   ],
   "source": [
    "print(customer_data.columns)"
   ]
  },
  {
   "cell_type": "code",
   "execution_count": 10,
   "id": "8b64a4d2",
   "metadata": {},
   "outputs": [
    {
     "name": "stdout",
     "output_type": "stream",
     "text": [
      "Income                  float64\n",
      "Kidhome                   int64\n",
      "Teenhome                  int64\n",
      "Recency                   int64\n",
      "MntWines                  int64\n",
      "MntFruits                 int64\n",
      "MntMeatProducts           int64\n",
      "MntFishProducts           int64\n",
      "MntSweetProducts          int64\n",
      "MntGoldProds              int64\n",
      "NumDealsPurchases         int64\n",
      "NumWebPurchases           int64\n",
      "NumCatalogPurchases       int64\n",
      "NumStorePurchases         int64\n",
      "NumWebVisitsMonth         int64\n",
      "AcceptedCmp3              int64\n",
      "AcceptedCmp4              int64\n",
      "AcceptedCmp5              int64\n",
      "AcceptedCmp1              int64\n",
      "AcceptedCmp2              int64\n",
      "Complain                  int64\n",
      "Z_CostContact             int64\n",
      "Z_Revenue                 int64\n",
      "Response                  int64\n",
      "Age                       int64\n",
      "Customer_Days             int64\n",
      "marital_Divorced          int64\n",
      "marital_Married           int64\n",
      "marital_Single            int64\n",
      "marital_Together          int64\n",
      "marital_Widow             int64\n",
      "education_2n Cycle        int64\n",
      "education_Basic           int64\n",
      "education_Graduation      int64\n",
      "education_Master          int64\n",
      "education_PhD             int64\n",
      "MntTotal                  int64\n",
      "MntRegularProds           int64\n",
      "AcceptedCmpOverall        int64\n",
      "dtype: object\n"
     ]
    }
   ],
   "source": [
    "print(customer_data.dtypes)"
   ]
  },
  {
   "cell_type": "code",
   "execution_count": 11,
   "id": "efda931b",
   "metadata": {},
   "outputs": [
    {
     "name": "stdout",
     "output_type": "stream",
     "text": [
      "0       False\n",
      "1       False\n",
      "2       False\n",
      "3       False\n",
      "4       False\n",
      "        ...  \n",
      "2200    False\n",
      "2201     True\n",
      "2202    False\n",
      "2203    False\n",
      "2204    False\n",
      "Length: 2205, dtype: bool\n"
     ]
    }
   ],
   "source": [
    "print(customer_data.duplicated())"
   ]
  },
  {
   "cell_type": "code",
   "execution_count": 13,
   "id": "d6493814",
   "metadata": {},
   "outputs": [],
   "source": [
    "# Feature Selection\n",
    "\n",
    "X = customer_data.drop(\"AcceptedCmpOverall\", axis=1)\n",
    "y = customer_data['AcceptedCmpOverall']"
   ]
  },
  {
   "cell_type": "code",
   "execution_count": 14,
   "id": "0eeb6b25",
   "metadata": {},
   "outputs": [],
   "source": [
    "# Standardizing the Features\n",
    "scaler = StandardScaler()\n",
    "scaled_features = scaler.fit_transform(X)"
   ]
  },
  {
   "cell_type": "code",
   "execution_count": 15,
   "id": "7f6ee0f4",
   "metadata": {},
   "outputs": [],
   "source": [
    "from sklearn.model_selection import train_test_split\n",
    "X_train, X_test, y_train, y_test = train_test_split(X, y, test_size=0.2, random_state=42)"
   ]
  },
  {
   "cell_type": "code",
   "execution_count": 16,
   "id": "7b79ffbe",
   "metadata": {},
   "outputs": [
    {
     "name": "stdout",
     "output_type": "stream",
     "text": [
      "Accuracy: 79.59183673469387\n"
     ]
    }
   ],
   "source": [
    "# K-Means Clustering\n",
    "\n",
    "from sklearn.neighbors import KNeighborsClassifier\n",
    "knn = KNeighborsClassifier(n_neighbors=5, p=2, metric='minkowski')\n",
    "knn.fit(X_train, y_train)\n",
    "accuracy = knn.score(X_test, y_test) * 100\n",
    "print(\"Accuracy:\", accuracy)"
   ]
  },
  {
   "cell_type": "code",
   "execution_count": 17,
   "id": "06cb8107",
   "metadata": {},
   "outputs": [
    {
     "name": "stderr",
     "output_type": "stream",
     "text": [
      "C:\\Users\\Anikait\\anaconda3\\lib\\site-packages\\sklearn\\cluster\\_kmeans.py:870: FutureWarning: The default value of `n_init` will change from 10 to 'auto' in 1.4. Set the value of `n_init` explicitly to suppress the warning\n",
      "  warnings.warn(\n",
      "C:\\Users\\Anikait\\anaconda3\\lib\\site-packages\\sklearn\\cluster\\_kmeans.py:1382: UserWarning: KMeans is known to have a memory leak on Windows with MKL, when there are less chunks than available threads. You can avoid it by setting the environment variable OMP_NUM_THREADS=9.\n",
      "  warnings.warn(\n",
      "C:\\Users\\Anikait\\anaconda3\\lib\\site-packages\\sklearn\\cluster\\_kmeans.py:870: FutureWarning: The default value of `n_init` will change from 10 to 'auto' in 1.4. Set the value of `n_init` explicitly to suppress the warning\n",
      "  warnings.warn(\n",
      "C:\\Users\\Anikait\\anaconda3\\lib\\site-packages\\sklearn\\cluster\\_kmeans.py:1382: UserWarning: KMeans is known to have a memory leak on Windows with MKL, when there are less chunks than available threads. You can avoid it by setting the environment variable OMP_NUM_THREADS=9.\n",
      "  warnings.warn(\n",
      "C:\\Users\\Anikait\\anaconda3\\lib\\site-packages\\sklearn\\cluster\\_kmeans.py:870: FutureWarning: The default value of `n_init` will change from 10 to 'auto' in 1.4. Set the value of `n_init` explicitly to suppress the warning\n",
      "  warnings.warn(\n",
      "C:\\Users\\Anikait\\anaconda3\\lib\\site-packages\\sklearn\\cluster\\_kmeans.py:1382: UserWarning: KMeans is known to have a memory leak on Windows with MKL, when there are less chunks than available threads. You can avoid it by setting the environment variable OMP_NUM_THREADS=9.\n",
      "  warnings.warn(\n",
      "C:\\Users\\Anikait\\anaconda3\\lib\\site-packages\\sklearn\\cluster\\_kmeans.py:870: FutureWarning: The default value of `n_init` will change from 10 to 'auto' in 1.4. Set the value of `n_init` explicitly to suppress the warning\n",
      "  warnings.warn(\n",
      "C:\\Users\\Anikait\\anaconda3\\lib\\site-packages\\sklearn\\cluster\\_kmeans.py:1382: UserWarning: KMeans is known to have a memory leak on Windows with MKL, when there are less chunks than available threads. You can avoid it by setting the environment variable OMP_NUM_THREADS=9.\n",
      "  warnings.warn(\n",
      "C:\\Users\\Anikait\\anaconda3\\lib\\site-packages\\sklearn\\cluster\\_kmeans.py:870: FutureWarning: The default value of `n_init` will change from 10 to 'auto' in 1.4. Set the value of `n_init` explicitly to suppress the warning\n",
      "  warnings.warn(\n",
      "C:\\Users\\Anikait\\anaconda3\\lib\\site-packages\\sklearn\\cluster\\_kmeans.py:1382: UserWarning: KMeans is known to have a memory leak on Windows with MKL, when there are less chunks than available threads. You can avoid it by setting the environment variable OMP_NUM_THREADS=9.\n",
      "  warnings.warn(\n",
      "C:\\Users\\Anikait\\anaconda3\\lib\\site-packages\\sklearn\\cluster\\_kmeans.py:870: FutureWarning: The default value of `n_init` will change from 10 to 'auto' in 1.4. Set the value of `n_init` explicitly to suppress the warning\n",
      "  warnings.warn(\n",
      "C:\\Users\\Anikait\\anaconda3\\lib\\site-packages\\sklearn\\cluster\\_kmeans.py:1382: UserWarning: KMeans is known to have a memory leak on Windows with MKL, when there are less chunks than available threads. You can avoid it by setting the environment variable OMP_NUM_THREADS=9.\n",
      "  warnings.warn(\n",
      "C:\\Users\\Anikait\\anaconda3\\lib\\site-packages\\sklearn\\cluster\\_kmeans.py:870: FutureWarning: The default value of `n_init` will change from 10 to 'auto' in 1.4. Set the value of `n_init` explicitly to suppress the warning\n",
      "  warnings.warn(\n",
      "C:\\Users\\Anikait\\anaconda3\\lib\\site-packages\\sklearn\\cluster\\_kmeans.py:1382: UserWarning: KMeans is known to have a memory leak on Windows with MKL, when there are less chunks than available threads. You can avoid it by setting the environment variable OMP_NUM_THREADS=9.\n",
      "  warnings.warn(\n",
      "C:\\Users\\Anikait\\anaconda3\\lib\\site-packages\\sklearn\\cluster\\_kmeans.py:870: FutureWarning: The default value of `n_init` will change from 10 to 'auto' in 1.4. Set the value of `n_init` explicitly to suppress the warning\n",
      "  warnings.warn(\n",
      "C:\\Users\\Anikait\\anaconda3\\lib\\site-packages\\sklearn\\cluster\\_kmeans.py:1382: UserWarning: KMeans is known to have a memory leak on Windows with MKL, when there are less chunks than available threads. You can avoid it by setting the environment variable OMP_NUM_THREADS=9.\n",
      "  warnings.warn(\n"
     ]
    },
    {
     "data": {
      "image/png": "[encoded data removed]",
      "text/plain": [
       "<Figure size 800x600 with 1 Axes>"
      ]
     },
     "metadata": {},
     "output_type": "display_data"
    }
   ],
   "source": [
    "# Visualization\n",
    "\n",
    "silhouette_scores = []\n",
    "for k in range(2, 10):\n",
    "    kmeans = KMeans(n_clusters=k)\n",
    "    kmeans.fit(scaled_features)\n",
    "    silhouette_avg = silhouette_score(scaled_features, kmeans.labels_)\n",
    "    silhouette_scores.append(silhouette_avg)\n",
    "\n",
    "plt.figure(figsize=[8, 6])\n",
    "plt.plot(range(2, 10), silhouette_scores, color=(0.12, 0.56, 0.71))\n",
    "plt.title(\"Silhouette Score vs. Number of Clusters\")\n",
    "plt.xlabel(\"Number of Clusters (K)\")\n",
    "plt.ylabel(\"Silhouette Score\")\n",
    "plt.show()"
   ]
  },
  {
   "cell_type": "code",
   "execution_count": null,
   "id": "635d110e",
   "metadata": {},
   "outputs": [],
   "source": []
  }
 ],
 "metadata": {
  "kernelspec": {
   "display_name": "Python 3 (ipykernel)",
   "language": "python",
   "name": "python3"
  },
  "language_info": {
   "codemirror_mode": {
    "name": "ipython",
    "version": 3
   },
   "file_extension": ".py",
   "mimetype": "text/x-python",
   "name": "python",
   "nbconvert_exporter": "python",
   "pygments_lexer": "ipython3",
   "version": "3.10.9"
  }
 },
 "nbformat": 4,
 "nbformat_minor": 5
}
